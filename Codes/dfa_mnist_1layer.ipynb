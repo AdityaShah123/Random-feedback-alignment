{
  "cells": [
    {
      "cell_type": "markdown",
      "metadata": {
        "id": "te9lo6uzl1cB"
      },
      "source": [
        "# DIRECT FEEDBACK ALIGNMENT ON MNIST"
      ]
    },
    {
      "cell_type": "code",
      "execution_count": null,
      "metadata": {
        "id": "bgiWXrZAl1cC"
      },
      "outputs": [],
      "source": [
        "import matplotlib.pyplot as plt\n",
        "import numpy as np\n",
        "# from keras.datasets import mnist\n",
        "from keras.datasets import cifar10\n",
        "# from keras.utils.np_utils import to_categorical\n",
        "from tensorflow.python.keras.utils.np_utils import to_categorical\n",
        "np.random.seed(1234) # fix first random number\n",
        "%matplotlib inline"
      ]
    },
    {
      "cell_type": "markdown",
      "metadata": {
        "id": "-3UnRB8Dl1cE"
      },
      "source": [
        "## CREATING DATASET"
      ]
    },
    {
      "cell_type": "code",
      "execution_count": null,
      "metadata": {
        "collapsed": true,
        "id": "ACNESPZyl1cE",
        "colab": {
          "base_uri": "https://localhost:8080/"
        },
        "outputId": "753b18e1-1e7a-4774-d2d4-2d3719a4a390"
      },
      "outputs": [
        {
          "output_type": "stream",
          "name": "stdout",
          "text": [
            "Downloading data from https://www.cs.toronto.edu/~kriz/cifar-10-python.tar.gz\n",
            "170498071/170498071 [==============================] - 3s 0us/step\n"
          ]
        }
      ],
      "source": [
        "(X_train, y_train), (X_test, y_test) = cifar10.load_data()\n",
        "\n",
        "X_train = X_train.astype('float32')\n",
        "X_test = X_test.astype('float32')\n",
        "\n",
        "X_train /= 255 # normalize data\n",
        "X_test /= 255 # normalize data"
      ]
    },
    {
      "cell_type": "code",
      "execution_count": null,
      "metadata": {
        "id": "NTawt3jnl1cF",
        "colab": {
          "base_uri": "https://localhost:8080/"
        },
        "outputId": "42d8726c-1a8e-4637-f54a-f6fdd382e071"
      },
      "outputs": [
        {
          "output_type": "stream",
          "name": "stdout",
          "text": [
            "Input dimensions\n",
            "(50000, 32, 32, 3) (10000, 32, 32, 3)\n",
            "(50000, 1) (10000, 1)\n",
            "After reshaping: (50000, 3072) (10000, 3072)\n"
          ]
        }
      ],
      "source": [
        "print('Input dimensions')\n",
        "print(X_train.shape, X_test.shape)\n",
        "print(y_train.shape, y_test.shape)\n",
        "\n",
        "X_train = X_train.reshape(50000, 32*32*3)\n",
        "X_test = X_test.reshape(10000, 32*32*3)\n",
        "\n",
        "print('After reshaping:', X_train.shape, X_test.shape)"
      ]
    },
    {
      "cell_type": "code",
      "execution_count": null,
      "metadata": {
        "colab": {
          "base_uri": "https://localhost:8080/"
        },
        "id": "RTleNOG-l1cF",
        "outputId": "9e317fb6-2573-42d2-fdd6-29560de4ff93"
      },
      "outputs": [
        {
          "output_type": "stream",
          "name": "stdout",
          "text": [
            "Sample of label: [6]\n"
          ]
        }
      ],
      "source": [
        "print('Sample of label:', y_train[0])"
      ]
    },
    {
      "cell_type": "code",
      "execution_count": null,
      "metadata": {
        "collapsed": true,
        "id": "F9xwKeQCl1cF"
      },
      "outputs": [],
      "source": [
        "nb_classes = 10\n",
        "y_train = to_categorical(y_train, nb_classes)\n",
        "y_test = to_categorical(y_test, nb_classes)"
      ]
    },
    {
      "cell_type": "code",
      "execution_count": null,
      "metadata": {
        "id": "0RYgVoDql1cG",
        "colab": {
          "base_uri": "https://localhost:8080/"
        },
        "outputId": "d109d080-4533-4859-ddde-40f4111dc46f"
      },
      "outputs": [
        {
          "output_type": "stream",
          "name": "stdout",
          "text": [
            "After conversion to categorical: [0. 0. 0. 0. 0. 0. 1. 0. 0. 0.]\n"
          ]
        }
      ],
      "source": [
        "print('After conversion to categorical:', y_train[0])"
      ]
    },
    {
      "cell_type": "markdown",
      "metadata": {
        "id": "H6afRB-nl1cG"
      },
      "source": [
        "## DEFINITION OF FORWARD AND BACKWARD PASS"
      ]
    },
    {
      "cell_type": "code",
      "execution_count": null,
      "metadata": {
        "collapsed": true,
        "id": "gSEWg3wrl1cG"
      },
      "outputs": [],
      "source": [
        "# import of sigmoid and crossentropy\n",
        "from scipy.special import expit\n",
        "from sklearn.metrics import log_loss"
      ]
    },
    {
      "cell_type": "code",
      "execution_count": null,
      "metadata": {
        "collapsed": true,
        "id": "oPiqX_SRl1cH"
      },
      "outputs": [],
      "source": [
        "def forward_pass(W1, W2, b1, b2, x):\n",
        "    a1 = np.matmul(W1, x)+np.tile(b1, x.shape[1])\n",
        "    h1 = np.tanh(a1)\n",
        "    a2 = np.matmul(W2, h1)+np.tile(b2, x.shape[1])\n",
        "    y_hat = expit(a2)\n",
        "    return a1, h1, a2, y_hat"
      ]
    },
    {
      "cell_type": "code",
      "execution_count": null,
      "metadata": {
        "collapsed": true,
        "id": "5FJh9-9Fl1cH"
      },
      "outputs": [],
      "source": [
        "def backprop_backward_pass(e, h1, W2, a1, x):\n",
        "    dW2 = -np.matmul(e, np.transpose(h1))\n",
        "    da1 = np.matmul(np.transpose(W2), e)*(1-np.tanh(a1)**2)\n",
        "    dW1 = -np.matmul(da1, np.transpose(x))\n",
        "    db1 = -np.sum(da1, axis=1)\n",
        "    db2 = -np.sum(e, axis=1)\n",
        "    return dW1, dW2, db1[:,np.newaxis], db2[:,np.newaxis]"
      ]
    },
    {
      "cell_type": "code",
      "execution_count": null,
      "metadata": {
        "collapsed": true,
        "id": "u9XE0EKel1cH"
      },
      "outputs": [],
      "source": [
        "def dfa_backward_pass(e, h1, B1, a1, x):\n",
        "    dW2 = -np.matmul(e, np.transpose(h1))\n",
        "    da1 = np.matmul(B1, e)*(1-np.tanh(a1)**2)\n",
        "    dW1 = -np.matmul(da1, np.transpose(x))\n",
        "    db1 = -np.sum(da1, axis=1)\n",
        "    db2 = -np.sum(e, axis=1)\n",
        "    return dW1, dW2, db1[:,np.newaxis], db2[:,np.newaxis]"
      ]
    },
    {
      "cell_type": "markdown",
      "metadata": {
        "id": "sB0S8B5fl1cH"
      },
      "source": [
        "## DEFINITION OF FUNCTION TO COMPUTE ANGLE BETWEEN UPDATES"
      ]
    },
    {
      "cell_type": "code",
      "execution_count": null,
      "metadata": {
        "collapsed": true,
        "id": "D98DfB0Ll1cI"
      },
      "outputs": [],
      "source": [
        "def average_angle(W2, B1, error, a1, a2):\n",
        "    dh1 = np.mean(np.matmul(B1, error), axis=1)[:, np.newaxis] #forse non ci va la derivata\n",
        "    c1 = np.mean(np.matmul(np.transpose(W2), error*(expit(a2)*(1-expit(a2)))), axis=1)[:, np.newaxis]\n",
        "    dh1_norm = np.linalg.norm(dh1)\n",
        "    c1_norm = np.linalg.norm(c1)\n",
        "    inverse_dh1_norm = np.power(dh1_norm, -1)\n",
        "    inverse_c1_norm = np.power(c1_norm, -1)\n",
        "\n",
        "    # ALIGNMENT CRITERION AND ANGLE\n",
        "    Lk = (np.matmul(np.transpose(dh1), c1)*inverse_dh1_norm)[0, 0]\n",
        "    beta = np.arccos(np.clip(Lk*inverse_c1_norm, -1., 1.))*180/np.pi\n",
        "    return Lk, beta"
      ]
    },
    {
      "cell_type": "code",
      "execution_count": null,
      "metadata": {
        "id": "UEndl28Ol1cI"
      },
      "outputs": [],
      "source": [
        "def train(x, y, n_epochs=10, lr=1e-3, batch_size=200, tol=1e-1):\n",
        "    x = np.transpose(x)\n",
        "    y = np.transpose(y)\n",
        "\n",
        "    W1, W2 = np.random.randn(800, 784), np.random.randn(10, 800)\n",
        "    b1, b2 = np.random.randn(800, 1), np.random.randn(10, 1)\n",
        "\n",
        "    dataset_size = x.shape[1]\n",
        "    n_batches = dataset_size//batch_size\n",
        "    te_bp = []\n",
        "    for i in range(n_epochs):\n",
        "        perm = np.random.permutation(x.shape[1])\n",
        "        x = x[:, perm]\n",
        "        y = y[:, perm]\n",
        "        loss = 0.\n",
        "        train_error = 0.\n",
        "        for j in range(n_batches):\n",
        "            samples = x[:, j*batch_size:(j+1)*batch_size]\n",
        "            targets = y[:, j*batch_size:(j+1)*batch_size]\n",
        "            a1, h1, a2, y_hat = forward_pass(W1, W2, b1, b2, samples)\n",
        "            error = y_hat - targets\n",
        "            preds = np.argmax(y_hat, axis=0)\n",
        "            truth = np.argmax(targets, axis=0)\n",
        "            train_error += np.sum(preds!=truth)\n",
        "            loss_on_batch = log_loss(targets, y_hat)\n",
        "\n",
        "            dW1, dW2, db1, db2 = backprop_backward_pass(error, h1, W2, a1, samples)\n",
        "            W1 += lr*dW1\n",
        "            W2 += lr*dW2\n",
        "            b1 += lr*db1\n",
        "            b2 += lr*db2\n",
        "            loss += loss_on_batch\n",
        "        training_error = 1.*train_error/x.shape[1]\n",
        "        print('Loss at epoch', i+1, ':', loss/x.shape[1])\n",
        "        print('Training error:', training_error)\n",
        "        prev_training_error = 0 if i==0 else te_bp[-1]\n",
        "        # if np.abs(training_error-prev_training_error) <= tol:\n",
        "        #     te_bp.append(training_error)\n",
        "        #     break\n",
        "        te_bp.append(training_error)\n",
        "    return W1, W2, b1, b2, te_bp"
      ]
    },
    {
      "cell_type": "code",
      "execution_count": null,
      "metadata": {
        "colab": {
          "base_uri": "https://localhost:8080/"
        },
        "id": "fxGEUQcrl1cI",
        "scrolled": true,
        "outputId": "af68acc9-f545-4170-d7b3-84e9f4f85f0c"
      },
      "outputs": [
        {
          "output_type": "stream",
          "name": "stdout",
          "text": [
            "Loss at epoch 1 : 1.1165321199224418\n",
            "Training error: 0.5848333333333333\n",
            "Loss at epoch 2 : 0.7147101048018146\n",
            "Training error: 0.33813333333333334\n",
            "Loss at epoch 3 : 0.6159950462743812\n",
            "Training error: 0.26448333333333335\n",
            "Loss at epoch 4 : 0.5675356330154221\n",
            "Training error: 0.22795\n",
            "Loss at epoch 5 : 0.5370808438177351\n",
            "Training error: 0.20353333333333334\n",
            "Loss at epoch 6 : 0.5152797502538295\n",
            "Training error: 0.18718333333333334\n",
            "Loss at epoch 7 : 0.4988478810093226\n",
            "Training error: 0.17538333333333334\n",
            "Loss at epoch 8 : 0.48565413749281844\n",
            "Training error: 0.16531666666666667\n",
            "Loss at epoch 9 : 0.47495979580336256\n",
            "Training error: 0.15676666666666667\n",
            "Loss at epoch 10 : 0.46568583994101553\n",
            "Training error: 0.14978333333333332\n",
            "Loss at epoch 11 : 0.45776661436154953\n",
            "Training error: 0.1435\n",
            "Loss at epoch 12 : 0.4506846597742356\n",
            "Training error: 0.13766666666666666\n",
            "Loss at epoch 13 : 0.44451743884338424\n",
            "Training error: 0.13308333333333333\n",
            "Loss at epoch 14 : 0.43868453352062753\n",
            "Training error: 0.1285\n",
            "Loss at epoch 15 : 0.43399012757625927\n",
            "Training error: 0.12446666666666667\n",
            "Loss at epoch 16 : 0.4292508130950605\n",
            "Training error: 0.1215\n",
            "Loss at epoch 17 : 0.42484193018202054\n",
            "Training error: 0.11848333333333333\n",
            "Loss at epoch 18 : 0.42100378497395274\n",
            "Training error: 0.11576666666666667\n",
            "Loss at epoch 19 : 0.4174596840805404\n",
            "Training error: 0.11315\n",
            "Loss at epoch 20 : 0.41417015485540276\n",
            "Training error: 0.1105\n",
            "Loss at epoch 21 : 0.4109122025716385\n",
            "Training error: 0.10806666666666667\n",
            "Loss at epoch 22 : 0.4080711745298776\n",
            "Training error: 0.10568333333333334\n",
            "Loss at epoch 23 : 0.4050803165191874\n",
            "Training error: 0.10355\n",
            "Loss at epoch 24 : 0.4026886074682029\n",
            "Training error: 0.10156666666666667\n",
            "Loss at epoch 25 : 0.40026587373138844\n",
            "Training error: 0.09966666666666667\n",
            "Loss at epoch 26 : 0.3980281547481883\n",
            "Training error: 0.09763333333333334\n",
            "Loss at epoch 27 : 0.3957000176888625\n",
            "Training error: 0.09621666666666667\n",
            "Loss at epoch 28 : 0.3934998911051669\n",
            "Training error: 0.09456666666666666\n",
            "Loss at epoch 29 : 0.39164419509722\n",
            "Training error: 0.09291666666666666\n",
            "Loss at epoch 30 : 0.3895942859915483\n",
            "Training error: 0.09175\n",
            "Loss at epoch 31 : 0.38788594357544515\n",
            "Training error: 0.09028333333333333\n",
            "Loss at epoch 32 : 0.3862477010516288\n",
            "Training error: 0.089\n",
            "Loss at epoch 33 : 0.38425617489986896\n",
            "Training error: 0.08775\n",
            "Loss at epoch 34 : 0.3827947598785658\n",
            "Training error: 0.08646666666666666\n",
            "Loss at epoch 35 : 0.38135315320008273\n",
            "Training error: 0.08535\n",
            "Loss at epoch 36 : 0.37976870087489467\n",
            "Training error: 0.08398333333333333\n",
            "Loss at epoch 37 : 0.37841018064757126\n",
            "Training error: 0.08301666666666667\n",
            "Loss at epoch 38 : 0.376886354119073\n",
            "Training error: 0.08176666666666667\n",
            "Loss at epoch 39 : 0.3757416732482663\n",
            "Training error: 0.08103333333333333\n",
            "Loss at epoch 40 : 0.3744470794612157\n",
            "Training error: 0.07998333333333334\n",
            "Loss at epoch 41 : 0.3732955491753109\n",
            "Training error: 0.07901666666666667\n",
            "Loss at epoch 42 : 0.37199314675827955\n",
            "Training error: 0.07781666666666667\n",
            "Loss at epoch 43 : 0.3709596226609447\n",
            "Training error: 0.07675\n",
            "Loss at epoch 44 : 0.3696748233420476\n",
            "Training error: 0.0757\n",
            "Loss at epoch 45 : 0.3686616999300316\n",
            "Training error: 0.07486666666666666\n",
            "Loss at epoch 46 : 0.36783473581172865\n",
            "Training error: 0.07411666666666666\n",
            "Loss at epoch 47 : 0.3665841971999905\n",
            "Training error: 0.07343333333333334\n",
            "Loss at epoch 48 : 0.3657470966468517\n",
            "Training error: 0.07238333333333333\n",
            "Loss at epoch 49 : 0.36475949493081494\n",
            "Training error: 0.07178333333333334\n",
            "Loss at epoch 50 : 0.36398760151497334\n",
            "Training error: 0.07071666666666666\n",
            "Loss at epoch 51 : 0.363112815645604\n",
            "Training error: 0.06975\n",
            "Loss at epoch 52 : 0.36224104068344876\n",
            "Training error: 0.06938333333333334\n",
            "Loss at epoch 53 : 0.36124819433683825\n",
            "Training error: 0.06838333333333334\n",
            "Loss at epoch 54 : 0.360802913818814\n",
            "Training error: 0.06773333333333334\n",
            "Loss at epoch 55 : 0.3598342943496417\n",
            "Training error: 0.06688333333333334\n",
            "Loss at epoch 56 : 0.3591013141650524\n",
            "Training error: 0.06626666666666667\n",
            "Loss at epoch 57 : 0.3581042456075314\n",
            "Training error: 0.06555\n",
            "Loss at epoch 58 : 0.35745350351268923\n",
            "Training error: 0.06531666666666666\n",
            "Loss at epoch 59 : 0.35683552348281006\n",
            "Training error: 0.06453333333333333\n",
            "Loss at epoch 60 : 0.356126236322826\n",
            "Training error: 0.06411666666666667\n",
            "Loss at epoch 61 : 0.35553500906658003\n",
            "Training error: 0.06366666666666666\n",
            "Loss at epoch 62 : 0.35471899016474473\n",
            "Training error: 0.06295\n",
            "Loss at epoch 63 : 0.3541450445069713\n",
            "Training error: 0.0623\n",
            "Loss at epoch 64 : 0.35369965846164486\n",
            "Training error: 0.062016666666666664\n",
            "Loss at epoch 65 : 0.352878422480038\n",
            "Training error: 0.061483333333333334\n",
            "Loss at epoch 66 : 0.35223459252131023\n",
            "Training error: 0.06088333333333333\n",
            "Loss at epoch 67 : 0.3516949026569993\n",
            "Training error: 0.06038333333333333\n",
            "Loss at epoch 68 : 0.351184483723945\n",
            "Training error: 0.059866666666666665\n",
            "Loss at epoch 69 : 0.35063212733613885\n",
            "Training error: 0.059133333333333336\n",
            "Loss at epoch 70 : 0.349928316185874\n",
            "Training error: 0.05865\n",
            "Loss at epoch 71 : 0.3496754460983253\n",
            "Training error: 0.05821666666666667\n",
            "Loss at epoch 72 : 0.34903598190306306\n",
            "Training error: 0.057883333333333335\n",
            "Loss at epoch 73 : 0.3485442157126851\n",
            "Training error: 0.0574\n",
            "Loss at epoch 74 : 0.34810796130233285\n",
            "Training error: 0.05673333333333333\n",
            "Loss at epoch 75 : 0.34750090862920496\n",
            "Training error: 0.05645\n",
            "Loss at epoch 76 : 0.3470321505831215\n",
            "Training error: 0.0561\n",
            "Loss at epoch 77 : 0.34659063043658794\n",
            "Training error: 0.0558\n",
            "Loss at epoch 78 : 0.34616583051429795\n",
            "Training error: 0.055216666666666664\n",
            "Loss at epoch 79 : 0.3456636593102902\n",
            "Training error: 0.055016666666666665\n",
            "Loss at epoch 80 : 0.3452474088019168\n",
            "Training error: 0.05433333333333333\n",
            "Loss at epoch 81 : 0.3448048190537988\n",
            "Training error: 0.05371666666666667\n",
            "Loss at epoch 82 : 0.34433101078200573\n",
            "Training error: 0.05341666666666667\n",
            "Loss at epoch 83 : 0.3438937388028346\n",
            "Training error: 0.05315\n",
            "Loss at epoch 84 : 0.3435798111387929\n",
            "Training error: 0.05263333333333333\n",
            "Loss at epoch 85 : 0.3432360750593508\n",
            "Training error: 0.05251666666666667\n",
            "Loss at epoch 86 : 0.34275812399519845\n",
            "Training error: 0.05188333333333333\n",
            "Loss at epoch 87 : 0.34241437303319505\n",
            "Training error: 0.05143333333333333\n",
            "Loss at epoch 88 : 0.34201169206455634\n",
            "Training error: 0.0513\n",
            "Loss at epoch 89 : 0.3416819048799761\n",
            "Training error: 0.05095\n",
            "Loss at epoch 90 : 0.34134883035791147\n",
            "Training error: 0.050666666666666665\n",
            "Loss at epoch 91 : 0.3409531339797505\n",
            "Training error: 0.04995\n",
            "Loss at epoch 92 : 0.34064216932112557\n",
            "Training error: 0.04951666666666667\n",
            "Loss at epoch 93 : 0.3403439629145961\n",
            "Training error: 0.04933333333333333\n",
            "Loss at epoch 94 : 0.33993822493203013\n",
            "Training error: 0.04903333333333333\n",
            "Loss at epoch 95 : 0.33959814504617597\n",
            "Training error: 0.0488\n",
            "Loss at epoch 96 : 0.3392571035759981\n",
            "Training error: 0.0484\n",
            "Loss at epoch 97 : 0.3389716888602162\n",
            "Training error: 0.048016666666666666\n",
            "Loss at epoch 98 : 0.3387080648373046\n",
            "Training error: 0.04785\n",
            "Loss at epoch 99 : 0.33841106544593913\n",
            "Training error: 0.0472\n",
            "Loss at epoch 100 : 0.3380575795985425\n",
            "Training error: 0.047233333333333336\n"
          ]
        }
      ],
      "source": [
        "# print(X_train)\n",
        "W1, W2, b1, b2, te_bp = train(X_train, y_train, n_epochs=100, lr=1e-4, batch_size=200, tol=1e-4)"
      ]
    },
    {
      "cell_type": "code",
      "execution_count": null,
      "metadata": {
        "collapsed": true,
        "id": "4ORuEsiIl1cI"
      },
      "outputs": [],
      "source": [
        "def dfa_train(x, y, n_epochs=10, lr=1e-3, batch_size=200, tol=1e-3):\n",
        "    x = np.transpose(x)\n",
        "    y = np.transpose(y)\n",
        "\n",
        "    W1, W2 = np.random.randn(800, 784), np.random.randn(10, 800)\n",
        "    b1, b2 = np.random.randn(800, 1), np.random.randn(10, 1)\n",
        "\n",
        "    B1 = np.random.randn(800, 10)\n",
        "    dataset_size = x.shape[1]\n",
        "    n_batches = dataset_size//batch_size\n",
        "    te_dfa = []\n",
        "    angles = []\n",
        "    for i in range(n_epochs):\n",
        "        perm = np.random.permutation(x.shape[1])\n",
        "        x = x[:, perm]\n",
        "        y = y[:, perm]\n",
        "        loss = 0.\n",
        "        train_error = 0.\n",
        "        for j in range(n_batches):\n",
        "            samples = x[:, j*batch_size:(j+1)*batch_size]\n",
        "            targets = y[:, j*batch_size:(j+1)*batch_size]\n",
        "            a1, h1, a2, y_hat = forward_pass(W1, W2, b1, b2, samples)\n",
        "            error = y_hat - targets\n",
        "            preds = np.argmax(y_hat, axis=0)\n",
        "            truth = np.argmax(targets, axis=0)\n",
        "            train_error += 1.*np.sum(preds!=truth)\n",
        "            loss_on_batch = log_loss(targets, y_hat)\n",
        "\n",
        "            dW1, dW2, db1, db2 = dfa_backward_pass(error, h1, B1, a1, samples)\n",
        "            W1 += lr*dW1\n",
        "            W2 += lr*dW2\n",
        "            b1 += lr*db1\n",
        "            b2 += lr*db2\n",
        "            loss += loss_on_batch\n",
        "            if j%100==0:\n",
        "                angles.append(average_angle(W2, B1, error, a1, a2))\n",
        "        training_error = 1.*train_error/x.shape[1]\n",
        "        # print('Loss at epoch', i+1, ':', loss/x.shape[1])\n",
        "        print('Epoch', i+1, ':')\n",
        "        print('Training error:', training_error)\n",
        "        prev_training_error = 0 if i==0 else te_dfa[-1]\n",
        "        # if np.abs(training_error-prev_training_error) <= tol:\n",
        "        #     te_dfa.append(training_error)\n",
        "        #     break\n",
        "        te_dfa.append(training_error)\n",
        "    return W1, W2, b1, b2, te_dfa, angles"
      ]
    },
    {
      "cell_type": "code",
      "execution_count": null,
      "metadata": {
        "colab": {
          "base_uri": "https://localhost:8080/"
        },
        "id": "Ze9FNSwvl1cJ",
        "outputId": "98c058da-0f51-4618-fc18-a538e76fe9d6"
      },
      "outputs": [
        {
          "output_type": "stream",
          "name": "stdout",
          "text": [
            "Epoch 1 :\n",
            "Training error: 0.7366833333333334\n",
            "Epoch 2 :\n",
            "Training error: 0.4908\n",
            "Epoch 3 :\n",
            "Training error: 0.3854666666666667\n",
            "Epoch 4 :\n",
            "Training error: 0.32903333333333334\n",
            "Epoch 5 :\n",
            "Training error: 0.2898\n",
            "Epoch 6 :\n",
            "Training error: 0.26285\n",
            "Epoch 7 :\n",
            "Training error: 0.24266666666666667\n",
            "Epoch 8 :\n",
            "Training error: 0.22778333333333334\n",
            "Epoch 9 :\n",
            "Training error: 0.21485\n",
            "Epoch 10 :\n",
            "Training error: 0.20451666666666668\n",
            "Epoch 11 :\n",
            "Training error: 0.19528333333333334\n",
            "Epoch 12 :\n",
            "Training error: 0.18718333333333334\n",
            "Epoch 13 :\n",
            "Training error: 0.18058333333333335\n",
            "Epoch 14 :\n",
            "Training error: 0.17423333333333332\n",
            "Epoch 15 :\n",
            "Training error: 0.16851666666666668\n",
            "Epoch 16 :\n",
            "Training error: 0.16361666666666666\n",
            "Epoch 17 :\n",
            "Training error: 0.15928333333333333\n",
            "Epoch 18 :\n",
            "Training error: 0.15483333333333332\n",
            "Epoch 19 :\n",
            "Training error: 0.15166666666666667\n",
            "Epoch 20 :\n",
            "Training error: 0.14758333333333334\n",
            "Epoch 21 :\n",
            "Training error: 0.14453333333333335\n",
            "Epoch 22 :\n",
            "Training error: 0.14146666666666666\n",
            "Epoch 23 :\n",
            "Training error: 0.13888333333333333\n",
            "Epoch 24 :\n",
            "Training error: 0.13585\n",
            "Epoch 25 :\n",
            "Training error: 0.13348333333333334\n",
            "Epoch 26 :\n",
            "Training error: 0.13113333333333332\n",
            "Epoch 27 :\n",
            "Training error: 0.12783333333333333\n",
            "Epoch 28 :\n",
            "Training error: 0.1265\n",
            "Epoch 29 :\n",
            "Training error: 0.12416666666666666\n",
            "Epoch 30 :\n",
            "Training error: 0.12236666666666667\n",
            "Epoch 31 :\n",
            "Training error: 0.12003333333333334\n",
            "Epoch 32 :\n",
            "Training error: 0.11818333333333333\n",
            "Epoch 33 :\n",
            "Training error: 0.1166\n",
            "Epoch 34 :\n",
            "Training error: 0.11466666666666667\n",
            "Epoch 35 :\n",
            "Training error: 0.1134\n",
            "Epoch 36 :\n",
            "Training error: 0.1119\n",
            "Epoch 37 :\n",
            "Training error: 0.11005\n",
            "Epoch 38 :\n",
            "Training error: 0.10861666666666667\n",
            "Epoch 39 :\n",
            "Training error: 0.1071\n",
            "Epoch 40 :\n",
            "Training error: 0.10521666666666667\n",
            "Epoch 41 :\n",
            "Training error: 0.10421666666666667\n",
            "Epoch 42 :\n",
            "Training error: 0.10266666666666667\n",
            "Epoch 43 :\n",
            "Training error: 0.10168333333333333\n",
            "Epoch 44 :\n",
            "Training error: 0.10026666666666667\n",
            "Epoch 45 :\n",
            "Training error: 0.09926666666666667\n",
            "Epoch 46 :\n",
            "Training error: 0.09831666666666666\n",
            "Epoch 47 :\n",
            "Training error: 0.09681666666666666\n",
            "Epoch 48 :\n",
            "Training error: 0.09636666666666667\n",
            "Epoch 49 :\n",
            "Training error: 0.09523333333333334\n",
            "Epoch 50 :\n",
            "Training error: 0.09451666666666667\n",
            "Epoch 51 :\n",
            "Training error: 0.09348333333333333\n",
            "Epoch 52 :\n",
            "Training error: 0.09266666666666666\n",
            "Epoch 53 :\n",
            "Training error: 0.09158333333333334\n",
            "Epoch 54 :\n",
            "Training error: 0.09081666666666667\n",
            "Epoch 55 :\n",
            "Training error: 0.0895\n",
            "Epoch 56 :\n",
            "Training error: 0.08885\n",
            "Epoch 57 :\n",
            "Training error: 0.08773333333333333\n",
            "Epoch 58 :\n",
            "Training error: 0.08673333333333333\n",
            "Epoch 59 :\n",
            "Training error: 0.086\n",
            "Epoch 60 :\n",
            "Training error: 0.0854\n",
            "Epoch 61 :\n",
            "Training error: 0.08436666666666667\n",
            "Epoch 62 :\n",
            "Training error: 0.08331666666666666\n",
            "Epoch 63 :\n",
            "Training error: 0.08266666666666667\n",
            "Epoch 64 :\n",
            "Training error: 0.08188333333333334\n",
            "Epoch 65 :\n",
            "Training error: 0.08086666666666667\n",
            "Epoch 66 :\n",
            "Training error: 0.08005\n",
            "Epoch 67 :\n",
            "Training error: 0.07946666666666667\n",
            "Epoch 68 :\n",
            "Training error: 0.07871666666666667\n",
            "Epoch 69 :\n",
            "Training error: 0.07798333333333334\n",
            "Epoch 70 :\n",
            "Training error: 0.07731666666666667\n",
            "Epoch 71 :\n",
            "Training error: 0.07695\n",
            "Epoch 72 :\n",
            "Training error: 0.07628333333333333\n",
            "Epoch 73 :\n",
            "Training error: 0.07555\n",
            "Epoch 74 :\n",
            "Training error: 0.07508333333333334\n",
            "Epoch 75 :\n",
            "Training error: 0.0744\n",
            "Epoch 76 :\n",
            "Training error: 0.0739\n",
            "Epoch 77 :\n",
            "Training error: 0.07333333333333333\n",
            "Epoch 78 :\n",
            "Training error: 0.07268333333333334\n",
            "Epoch 79 :\n",
            "Training error: 0.0718\n",
            "Epoch 80 :\n",
            "Training error: 0.07136666666666666\n",
            "Epoch 81 :\n",
            "Training error: 0.07073333333333333\n",
            "Epoch 82 :\n",
            "Training error: 0.07028333333333334\n",
            "Epoch 83 :\n",
            "Training error: 0.06965\n",
            "Epoch 84 :\n",
            "Training error: 0.06933333333333333\n",
            "Epoch 85 :\n",
            "Training error: 0.06871666666666666\n",
            "Epoch 86 :\n",
            "Training error: 0.06796666666666666\n",
            "Epoch 87 :\n",
            "Training error: 0.06736666666666667\n",
            "Epoch 88 :\n",
            "Training error: 0.0671\n",
            "Epoch 89 :\n",
            "Training error: 0.06638333333333334\n",
            "Epoch 90 :\n",
            "Training error: 0.0658\n",
            "Epoch 91 :\n",
            "Training error: 0.06528333333333333\n",
            "Epoch 92 :\n",
            "Training error: 0.06466666666666666\n",
            "Epoch 93 :\n",
            "Training error: 0.06435\n",
            "Epoch 94 :\n",
            "Training error: 0.064\n",
            "Epoch 95 :\n",
            "Training error: 0.0634\n",
            "Epoch 96 :\n",
            "Training error: 0.06291666666666666\n",
            "Epoch 97 :\n",
            "Training error: 0.06255\n",
            "Epoch 98 :\n",
            "Training error: 0.061783333333333336\n",
            "Epoch 99 :\n",
            "Training error: 0.0615\n",
            "Epoch 100 :\n",
            "Training error: 0.06093333333333333\n"
          ]
        }
      ],
      "source": [
        "W1dfa, W2dfa, b1dfa, b2dfa, te_dfa, angles = dfa_train(X_train, y_train, n_epochs=100, lr=1e-4, batch_size=200, tol=1e-4)"
      ]
    },
    {
      "cell_type": "code",
      "execution_count": null,
      "metadata": {
        "collapsed": true,
        "id": "DkkwX0QYl1cJ"
      },
      "outputs": [],
      "source": [
        "def test(W1, W2, b1, b2, test_samples, test_targets):\n",
        "    test_samples = np.transpose(test_samples)\n",
        "    test_targets = np.transpose(test_targets)\n",
        "    outs = forward_pass(W1, W2, b1, b2, test_samples)[-1]\n",
        "    preds = np.argmax(outs, axis=0)\n",
        "    truth = np.argmax(test_targets, axis=0)\n",
        "    test_error = 1.*np.sum(preds!=truth)/preds.shape[0]\n",
        "    return test_error"
      ]
    },
    {
      "cell_type": "code",
      "execution_count": null,
      "metadata": {
        "id": "UcRxmn1Dl1cJ",
        "colab": {
          "base_uri": "https://localhost:8080/"
        },
        "outputId": "c6bc64b9-d427-4594-aedc-d81a721e3450"
      },
      "outputs": [
        {
          "output_type": "stream",
          "name": "stdout",
          "text": [
            "BP: 8.12 %\n",
            "DFA: 7.76 %\n"
          ]
        }
      ],
      "source": [
        "print('BP:', test(W1, W2, b1, b2, X_test, y_test)*100, '%')\n",
        "print('DFA:', test(W1dfa, W2dfa, b1dfa, b2dfa, X_test, y_test)*100, '%')"
      ]
    },
    {
      "cell_type": "code",
      "execution_count": null,
      "metadata": {
        "colab": {
          "base_uri": "https://localhost:8080/",
          "height": 472
        },
        "id": "BHrm8kIDl1cJ",
        "outputId": "cadffcac-b1b1-4900-d85c-5ba42921c0cd"
      },
      "outputs": [
        {
          "output_type": "display_data",
          "data": {
            "text/plain": [
              "<Figure size 640x480 with 1 Axes>"
            ],
            "image/png": "[encoded data removed]"
          },
          "metadata": {}
        }
      ],
      "source": [
        "plt.plot(range(len(te_bp)), te_bp, label='BP training error')\n",
        "plt.plot(range(len(te_dfa)), te_dfa, label='DFA training error')\n",
        "plt.title('Learning rate 1e-4')\n",
        "plt.xlabel('Epochs')\n",
        "plt.ylabel('Training error %')\n",
        "plt.legend(loc='best')\n",
        "plt.savefig(\"output_1.jpg\")\n",
        "plt.show()"
      ]
    },
    {
      "cell_type": "code",
      "execution_count": null,
      "metadata": {
        "id": "e34845Jfl1cK"
      },
      "outputs": [],
      "source": [
        "l, beta = zip(*angles)"
      ]
    },
    {
      "cell_type": "code",
      "execution_count": null,
      "metadata": {
        "colab": {
          "base_uri": "https://localhost:8080/",
          "height": 449
        },
        "id": "m5ZU-qH9l1cK",
        "outputId": "0b4cfb7e-8308-4686-a1c6-8c0e1695f60f"
      },
      "outputs": [
        {
          "output_type": "display_data",
          "data": {
            "text/plain": [
              "<Figure size 640x480 with 1 Axes>"
            ],
            "image/png": "[encoded data removed]"
          },
          "metadata": {}
        }
      ],
      "source": [
        "plt.plot(range(len(beta)), beta, label='angle')\n",
        "plt.legend(loc='best')\n",
        "plt.xlabel('Epoch*3')\n",
        "plt.ylabel('Angle')\n",
        "plt.savefig(\"output_2.jpg\")\n",
        "plt.show()"
      ]
    },
    {
      "cell_type": "code",
      "source": [],
      "metadata": {
        "id": "ErVUeKoNFyAw"
      },
      "execution_count": null,
      "outputs": []
    }
  ],
  "metadata": {
    "colab": {
      "provenance": []
    },
    "kernelspec": {
      "display_name": "Python 2",
      "language": "python",
      "name": "python2"
    },
    "language_info": {
      "codemirror_mode": {
        "name": "ipython",
        "version": 2
      },
      "file_extension": ".py",
      "mimetype": "text/x-python",
      "name": "python",
      "nbconvert_exporter": "python",
      "pygments_lexer": "ipython2",
      "version": "2.7.10"
    }
  },
  "nbformat": 4,
  "nbformat_minor": 0
}