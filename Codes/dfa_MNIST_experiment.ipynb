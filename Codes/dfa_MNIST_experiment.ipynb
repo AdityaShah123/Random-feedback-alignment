{
  "cells": [
    {
      "cell_type": "markdown",
      "metadata": {
        "id": "te9lo6uzl1cB"
      },
      "source": [
        "# DIRECT FEEDBACK ALIGNMENT ON MNIST"
      ]
    },
    {
      "cell_type": "code",
      "execution_count": null,
      "metadata": {
        "id": "bgiWXrZAl1cC"
      },
      "outputs": [],
      "source": [
        "import matplotlib.pyplot as plt\n",
        "import numpy as np\n",
        "from keras.datasets import mnist\n",
        "# from keras.datasets import cifar10\n",
        "# from keras.utils.np_utils import to_categorical\n",
        "from tensorflow.python.keras.utils.np_utils import to_categorical\n",
        "np.random.seed(1234) # fix first random number\n",
        "%matplotlib inline"
      ]
    },
    {
      "cell_type": "markdown",
      "metadata": {
        "id": "-3UnRB8Dl1cE"
      },
      "source": [
        "## CREATING DATASET"
      ]
    },
    {
      "cell_type": "code",
      "execution_count": null,
      "metadata": {
        "colab": {
          "base_uri": "https://localhost:8080/"
        },
        "collapsed": true,
        "id": "ACNESPZyl1cE",
        "outputId": "df373214-fa16-44ed-d4cf-cc75ead9aa60"
      },
      "outputs": [
        {
          "output_type": "stream",
          "name": "stdout",
          "text": [
            "Downloading data from https://storage.googleapis.com/tensorflow/tf-keras-datasets/mnist.npz\n",
            "11490434/11490434 [==============================] - 0s 0us/step\n"
          ]
        }
      ],
      "source": [
        "(X_train, y_train), (X_test, y_test) = mnist.load_data()\n",
        "\n",
        "X_train = X_train.astype('float32')\n",
        "X_test = X_test.astype('float32')\n",
        "\n",
        "X_train /= 255 # normalize data\n",
        "X_test /= 255 # normalize data"
      ]
    },
    {
      "cell_type": "code",
      "execution_count": null,
      "metadata": {
        "colab": {
          "base_uri": "https://localhost:8080/",
          "height": 447
        },
        "id": "AUAAYn7Ll1cF",
        "outputId": "afb15a94-39e7-4979-d5d4-26ea5ccbbe2f"
      },
      "outputs": [
        {
          "output_type": "execute_result",
          "data": {
            "text/plain": [
              "<matplotlib.image.AxesImage at 0x7e15f0e22f50>"
            ]
          },
          "metadata": {},
          "execution_count": 3
        },
        {
          "output_type": "display_data",
          "data": {
            "text/plain": [
              "<Figure size 640x480 with 1 Axes>"
            ],
            "image/png": "[encoded data removed]"
          },
          "metadata": {}
        }
      ],
      "source": [
        "plt.imshow(X_train[0])"
      ]
    },
    {
      "cell_type": "code",
      "execution_count": null,
      "metadata": {
        "colab": {
          "base_uri": "https://localhost:8080/"
        },
        "id": "NTawt3jnl1cF",
        "outputId": "112f01d8-4427-49a3-edfc-34d606cf5bc8"
      },
      "outputs": [
        {
          "output_type": "stream",
          "name": "stdout",
          "text": [
            "Input dimensions\n",
            "(60000, 28, 28) (10000, 28, 28)\n",
            "(60000,) (10000,)\n",
            "After reshaping: (60000, 784) (10000, 784)\n"
          ]
        }
      ],
      "source": [
        "print('Input dimensions')\n",
        "print(X_train.shape, X_test.shape)\n",
        "print(y_train.shape, y_test.shape)\n",
        "\n",
        "X_train = X_train.reshape(60000, 28*28)\n",
        "X_test = X_test.reshape(10000, 28*28)\n",
        "\n",
        "print('After reshaping:', X_train.shape, X_test.shape)"
      ]
    },
    {
      "cell_type": "code",
      "execution_count": null,
      "metadata": {
        "colab": {
          "base_uri": "https://localhost:8080/"
        },
        "id": "RTleNOG-l1cF",
        "outputId": "c24128b8-a35a-433c-b6f1-196d31f1eed6"
      },
      "outputs": [
        {
          "output_type": "stream",
          "name": "stdout",
          "text": [
            "Sample of label: 5\n"
          ]
        }
      ],
      "source": [
        "print('Sample of label:', y_train[0])"
      ]
    },
    {
      "cell_type": "code",
      "execution_count": null,
      "metadata": {
        "collapsed": true,
        "id": "F9xwKeQCl1cF"
      },
      "outputs": [],
      "source": [
        "nb_classes = 10\n",
        "y_train = to_categorical(y_train, nb_classes)\n",
        "y_test = to_categorical(y_test, nb_classes)"
      ]
    },
    {
      "cell_type": "code",
      "execution_count": null,
      "metadata": {
        "colab": {
          "base_uri": "https://localhost:8080/"
        },
        "id": "0RYgVoDql1cG",
        "outputId": "a1a07db7-b29a-43dd-89ee-7684efda6f69"
      },
      "outputs": [
        {
          "output_type": "stream",
          "name": "stdout",
          "text": [
            "After conversion to categorical: [0. 0. 0. 0. 0. 1. 0. 0. 0. 0.]\n"
          ]
        }
      ],
      "source": [
        "print('After conversion to categorical:', y_train[0])"
      ]
    },
    {
      "cell_type": "markdown",
      "metadata": {
        "id": "H6afRB-nl1cG"
      },
      "source": [
        "## DEFINITION OF FORWARD AND BACKWARD PASS"
      ]
    },
    {
      "cell_type": "code",
      "execution_count": null,
      "metadata": {
        "collapsed": true,
        "id": "gSEWg3wrl1cG"
      },
      "outputs": [],
      "source": [
        "# import of sigmoid and crossentropy\n",
        "from scipy.special import expit\n",
        "from sklearn.metrics import log_loss"
      ]
    },
    {
      "cell_type": "code",
      "source": [
        "def forward_pass2(W1,W2,W3,b1,b2,b3,x):\n",
        "    # if the input is a batch, I have to tile as many\n",
        "    # b1 and b2 as the batch size\n",
        "    a1 = np.matmul(W1, x)+np.tile(b1, x.shape[1])\n",
        "    h1 = np.tanh(a1)\n",
        "\n",
        "    a2 = np.matmul(W2, h1)+np.tile(b2, x.shape[1])\n",
        "    h2 = np.tanh(a2)\n",
        "\n",
        "    a3 = np.matmul(W3, h2)+np.tile(b3, x.shape[1])\n",
        "    y_hat = expit(a3)\n",
        "    return a1, h1, a2, h2, a3, y_hat"
      ],
      "metadata": {
        "id": "4lzYk-YJwI2q"
      },
      "execution_count": null,
      "outputs": []
    },
    {
      "cell_type": "code",
      "source": [
        "def backprop_backward_pass2(e, h1, h2, W2, W3, a1, a2, x):\n",
        "    dW3 = -np.matmul(e,np.transpose(h2))\n",
        "    db3 = -np.sum(e, axis=1)\n",
        "\n",
        "    da2 = np.matmul(np.transpose(W3), e)*(1-np.tanh(a2)**2)\n",
        "    dW2 = -np.matmul(da2, np.transpose(h1))\n",
        "    db2 = -np.sum(da2,axis=1)\n",
        "\n",
        "    da1 = np.matmul(np.transpose(W2), da2)*(1-np.tanh(a1)**2)\n",
        "    dW1 = -np.matmul(da1, np.transpose(x))\n",
        "    db1 = -np.sum(da1, axis=1)\n",
        "\n",
        "    return dW1, dW2, dW3, db1[:,np.newaxis], db2[:,np.newaxis], db3[:,np.newaxis]"
      ],
      "metadata": {
        "id": "NLjd0RsfwyVv"
      },
      "execution_count": null,
      "outputs": []
    },
    {
      "cell_type": "markdown",
      "metadata": {
        "id": "sB0S8B5fl1cH"
      },
      "source": [
        "## DEFINITION OF FUNCTION TO COMPUTE ANGLE BETWEEN UPDATES"
      ]
    },
    {
      "cell_type": "code",
      "execution_count": null,
      "metadata": {
        "collapsed": true,
        "id": "D98DfB0Ll1cI"
      },
      "outputs": [],
      "source": [
        "def average_angle(W2, B1, error, a1, a2):\n",
        "    dh1 = np.mean(np.matmul(B1, error), axis=1)[:, np.newaxis] #forse non ci va la derivata\n",
        "    c1 = np.mean(np.matmul(np.transpose(W2), error*(expit(a2)*(1-expit(a2)))), axis=1)[:, np.newaxis]\n",
        "    dh1_norm = np.linalg.norm(dh1)\n",
        "    c1_norm = np.linalg.norm(c1)\n",
        "    inverse_dh1_norm = np.power(dh1_norm, -1)\n",
        "    inverse_c1_norm = np.power(c1_norm, -1)\n",
        "\n",
        "    # ALIGNMENT CRITERION AND ANGLE\n",
        "    Lk = (np.matmul(np.transpose(dh1), c1)*inverse_dh1_norm)[0, 0]\n",
        "    beta = np.arccos(np.clip(Lk*inverse_c1_norm, -1., 1.))*180/np.pi\n",
        "    return Lk, beta"
      ]
    },
    {
      "cell_type": "code",
      "source": [
        "def train2(x, y, n_epochs=10, lr=1e-3, batch_size=200, tol=1e-1):\n",
        "    x = np.transpose(x)\n",
        "    y = np.transpose(y)\n",
        "\n",
        "    W1, W2, W3 = np.random.randn(800, 784), np.random.randn(800,800), np.random.randn(10, 800)\n",
        "    b1, b2, b3 = np.random.randn(800, 1), np.random.randn(800,1), np.random.randn(10, 1)\n",
        "\n",
        "    dataset_size = x.shape[1]\n",
        "    n_batches = dataset_size//batch_size\n",
        "    te_bp = []\n",
        "    for i in range(n_epochs):\n",
        "        perm = np.random.permutation(x.shape[1])\n",
        "        x = x[:, perm]\n",
        "        y = y[:, perm]\n",
        "        loss = 0.\n",
        "        train_error = 0.\n",
        "        for j in range(n_batches):\n",
        "            samples = x[:, j*batch_size:(j+1)*batch_size]\n",
        "            targets = y[:, j*batch_size:(j+1)*batch_size]\n",
        "            a1, h1, a2, h2, a3, y_hat = forward_pass2(W1, W2, W3, b1, b2, b3, samples)\n",
        "            error = y_hat - targets\n",
        "            preds = np.argmax(y_hat, axis=0)\n",
        "            truth = np.argmax(targets, axis=0)\n",
        "            train_error += np.sum(preds!=truth)\n",
        "            loss_on_batch = log_loss(targets, y_hat)\n",
        "\n",
        "            dW1, dW2, dW3, db1, db2, db3 = backprop_backward_pass2(error, h1, h2, W2, W3, a1, a2, samples)\n",
        "            W1 += lr*dW1\n",
        "            W2 += lr*dW2\n",
        "            W3 += lr*dW3\n",
        "            b1 += lr*db1\n",
        "            b2 += lr*db2\n",
        "            b3 += lr*db3\n",
        "            loss += loss_on_batch\n",
        "        training_error = 1.*train_error/x.shape[1]\n",
        "        print('Loss at epoch', i+1, ':', loss/x.shape[1])\n",
        "        print('Training error:', training_error)\n",
        "        prev_training_error = 0 if i==0 else te_bp[-1]\n",
        "        if np.abs(training_error-prev_training_error) <= tol:\n",
        "            te_bp.append(training_error)\n",
        "            break\n",
        "        te_bp.append(training_error)\n",
        "    return W1, W2, W3, b1, b2, b3, te_bp"
      ],
      "metadata": {
        "id": "SIT_KKQ62c-4"
      },
      "execution_count": null,
      "outputs": []
    },
    {
      "cell_type": "code",
      "execution_count": null,
      "metadata": {
        "colab": {
          "base_uri": "https://localhost:8080/"
        },
        "id": "fxGEUQcrl1cI",
        "scrolled": true,
        "outputId": "cc973ae1-da1b-46c7-db7d-d7e72316e953"
      },
      "outputs": [
        {
          "output_type": "stream",
          "name": "stdout",
          "text": [
            "Loss at epoch 1 : 1.4669228822287181\n",
            "Training error: 0.5546166666666666\n",
            "Loss at epoch 2 : 0.8544241828407304\n",
            "Training error: 0.29175\n",
            "Loss at epoch 3 : 0.7116456429523246\n",
            "Training error: 0.22096666666666667\n",
            "Loss at epoch 4 : 0.633661778090426\n",
            "Training error: 0.1818\n",
            "Loss at epoch 5 : 0.5785787666196913\n",
            "Training error: 0.15613333333333335\n",
            "Loss at epoch 6 : 0.5350319113479536\n",
            "Training error: 0.13515\n",
            "Loss at epoch 7 : 0.5022349408188371\n",
            "Training error: 0.1196\n",
            "Loss at epoch 8 : 0.4753790223125469\n",
            "Training error: 0.1057\n",
            "Loss at epoch 9 : 0.45397029927473004\n",
            "Training error: 0.0945\n",
            "Loss at epoch 10 : 0.43632401156062695\n",
            "Training error: 0.08506666666666667\n",
            "Loss at epoch 11 : 0.42210362332470813\n",
            "Training error: 0.07693333333333334\n",
            "Loss at epoch 12 : 0.40998900433191104\n",
            "Training error: 0.07051666666666667\n",
            "Loss at epoch 13 : 0.3997936525107918\n",
            "Training error: 0.06428333333333333\n",
            "Loss at epoch 14 : 0.3909490045446205\n",
            "Training error: 0.059083333333333335\n",
            "Loss at epoch 15 : 0.38297426896742626\n",
            "Training error: 0.05485\n",
            "Loss at epoch 16 : 0.3762703110286564\n",
            "Training error: 0.05075\n",
            "Loss at epoch 17 : 0.3703240825008139\n",
            "Training error: 0.04708333333333333\n",
            "Loss at epoch 18 : 0.36494320354114756\n",
            "Training error: 0.04328333333333333\n",
            "Loss at epoch 19 : 0.3603653334259311\n",
            "Training error: 0.04053333333333333\n",
            "Loss at epoch 20 : 0.3562300424169602\n",
            "Training error: 0.038266666666666664\n",
            "Loss at epoch 21 : 0.3527091885979659\n",
            "Training error: 0.035333333333333335\n",
            "Loss at epoch 22 : 0.3493724910993128\n",
            "Training error: 0.03335\n",
            "Loss at epoch 23 : 0.34631529328729854\n",
            "Training error: 0.03123333333333333\n",
            "Loss at epoch 24 : 0.34388274268031505\n",
            "Training error: 0.029183333333333332\n",
            "Loss at epoch 25 : 0.3414334796324204\n",
            "Training error: 0.027766666666666665\n",
            "Loss at epoch 26 : 0.3391382129035435\n",
            "Training error: 0.026483333333333334\n",
            "Loss at epoch 27 : 0.33698407506397793\n",
            "Training error: 0.024883333333333334\n",
            "Loss at epoch 28 : 0.33523092040643454\n",
            "Training error: 0.023966666666666667\n",
            "Loss at epoch 29 : 0.3335827260379347\n",
            "Training error: 0.023083333333333334\n",
            "Loss at epoch 30 : 0.33198023846237545\n",
            "Training error: 0.021983333333333334\n",
            "Loss at epoch 31 : 0.3303889952859779\n",
            "Training error: 0.02065\n",
            "Loss at epoch 32 : 0.32909365671382446\n",
            "Training error: 0.019566666666666666\n",
            "Loss at epoch 33 : 0.327876309237482\n",
            "Training error: 0.018766666666666668\n",
            "Loss at epoch 34 : 0.3265539949552729\n",
            "Training error: 0.018016666666666667\n",
            "Loss at epoch 35 : 0.3254687904265253\n",
            "Training error: 0.017483333333333333\n",
            "Loss at epoch 36 : 0.32457033046441636\n",
            "Training error: 0.016716666666666668\n",
            "Loss at epoch 37 : 0.3236330797847544\n",
            "Training error: 0.01605\n",
            "Loss at epoch 38 : 0.3226655420206461\n",
            "Training error: 0.0155\n",
            "Loss at epoch 39 : 0.32197257817139097\n",
            "Training error: 0.01475\n",
            "Loss at epoch 40 : 0.3211039268685871\n",
            "Training error: 0.014316666666666667\n",
            "Loss at epoch 41 : 0.32056573717759956\n",
            "Training error: 0.0138\n",
            "Loss at epoch 42 : 0.31977728153570484\n",
            "Training error: 0.013216666666666666\n",
            "Loss at epoch 43 : 0.31910975097728356\n",
            "Training error: 0.012766666666666667\n",
            "Loss at epoch 44 : 0.31856574258849407\n",
            "Training error: 0.012366666666666666\n",
            "Loss at epoch 45 : 0.31796279831186103\n",
            "Training error: 0.012\n",
            "Loss at epoch 46 : 0.31736183207822344\n",
            "Training error: 0.011516666666666666\n",
            "Loss at epoch 47 : 0.3169496417121432\n",
            "Training error: 0.011033333333333332\n",
            "Loss at epoch 48 : 0.31636012400562824\n",
            "Training error: 0.010833333333333334\n",
            "Loss at epoch 49 : 0.3159211766791579\n",
            "Training error: 0.010516666666666667\n",
            "Loss at epoch 50 : 0.3155529824403819\n",
            "Training error: 0.010316666666666667\n",
            "Loss at epoch 51 : 0.31511005751210325\n",
            "Training error: 0.00995\n",
            "Loss at epoch 52 : 0.3146554503136846\n",
            "Training error: 0.009716666666666667\n",
            "Loss at epoch 53 : 0.3141487182002028\n",
            "Training error: 0.009316666666666666\n",
            "Loss at epoch 54 : 0.3138828946207417\n",
            "Training error: 0.0089\n",
            "Loss at epoch 55 : 0.3135028135439419\n",
            "Training error: 0.008716666666666666\n",
            "Loss at epoch 56 : 0.31323839537545\n",
            "Training error: 0.008433333333333333\n",
            "Loss at epoch 57 : 0.3127989001532856\n",
            "Training error: 0.008133333333333333\n",
            "Loss at epoch 58 : 0.31261937630716324\n",
            "Training error: 0.007883333333333332\n",
            "Loss at epoch 59 : 0.3123598598507034\n",
            "Training error: 0.007683333333333334\n",
            "Loss at epoch 60 : 0.31204864159714757\n",
            "Training error: 0.007483333333333333\n",
            "Loss at epoch 61 : 0.3117496295787705\n",
            "Training error: 0.0073\n",
            "Loss at epoch 62 : 0.3114646991083532\n",
            "Training error: 0.007033333333333333\n",
            "Loss at epoch 63 : 0.3112521956727889\n",
            "Training error: 0.006866666666666667\n",
            "Loss at epoch 64 : 0.31087853477692884\n",
            "Training error: 0.00665\n",
            "Loss at epoch 65 : 0.31069630034486423\n",
            "Training error: 0.0065\n",
            "Loss at epoch 66 : 0.3104159736897984\n",
            "Training error: 0.006383333333333334\n",
            "Loss at epoch 67 : 0.3103466479431765\n",
            "Training error: 0.0063\n"
          ]
        }
      ],
      "source": [
        "# print(X_train)\n",
        "W1, W2, W3, b1, b2, b3, te_bp = train2(X_train, y_train, n_epochs=100, lr=1e-4, batch_size=200, tol=1e-4)"
      ]
    },
    {
      "cell_type": "code",
      "execution_count": null,
      "metadata": {
        "collapsed": true,
        "id": "u9XE0EKel1cH"
      },
      "outputs": [],
      "source": [
        "def dfa_backward_pass1(e, h1, B1, a1, x):\n",
        "    dW2 = -np.matmul(e, np.transpose(h1))\n",
        "    da1 = np.matmul(B1, e)*(1-np.tanh(a1)**2)\n",
        "    dW1 = -np.matmul(da1, np.transpose(x))\n",
        "    db1 = -np.sum(da1, axis=1)\n",
        "    db2 = -np.sum(e, axis=1)\n",
        "    return dW1, dW2, db1[:,np.newaxis], db2[:,np.newaxis]"
      ]
    },
    {
      "cell_type": "code",
      "source": [
        "def dfa_backward_pass2(e, h1, h2, B1, B2, a1, a2, x):\n",
        "    dW3 = -np.matmul(e,np.transpose(h2))\n",
        "    db3 = -np.sum(e, axis=1)\n",
        "\n",
        "    da2 = np.matmul(B2, e)*(1-np.tanh(a2)**2)\n",
        "    dW2 = -np.matmul(da2, np.transpose(h1))\n",
        "    db2 = -np.sum(da2,axis=1)\n",
        "\n",
        "    da1 = np.matmul(B1, e)*(1-np.tanh(a1)**2)\n",
        "    dW1 = -np.matmul(da1, np.transpose(x))\n",
        "    db1 = -np.sum(da1, axis=1)\n",
        "\n",
        "    return dW1, dW2, dW3, db1[:,np.newaxis], db2[:,np.newaxis], db3[:,np.newaxis]"
      ],
      "metadata": {
        "id": "yat6MH2P7pmE"
      },
      "execution_count": null,
      "outputs": []
    },
    {
      "cell_type": "code",
      "execution_count": null,
      "metadata": {
        "collapsed": true,
        "id": "4ORuEsiIl1cI"
      },
      "outputs": [],
      "source": [
        "def dfa_train2(x, y, n_epochs=10, lr=1e-3, batch_size=200, tol=1e-3):\n",
        "    x = np.transpose(x)\n",
        "    y = np.transpose(y)\n",
        "\n",
        "    W1, W2, W3 = np.random.randn(800, 784), np.random.randn(800,800), np.random.randn(10, 800)\n",
        "    b1, b2, b3 = np.random.randn(800, 1), np.random.randn(800,1), np.random.randn(10, 1)\n",
        "\n",
        "    B1 = np.random.randn(800,10)\n",
        "    B2 = np.random.randn(800,10)\n",
        "    dataset_size = x.shape[1]\n",
        "    n_batches = dataset_size//batch_size\n",
        "    te_dfa = []\n",
        "    angles = []\n",
        "    for i in range(n_epochs):\n",
        "        perm = np.random.permutation(x.shape[1])\n",
        "        x = x[:, perm]\n",
        "        y = y[:, perm]\n",
        "        loss = 0.\n",
        "        train_error = 0.\n",
        "        for j in range(n_batches):\n",
        "            samples = x[:, j*batch_size:(j+1)*batch_size]\n",
        "            targets = y[:, j*batch_size:(j+1)*batch_size]\n",
        "            a1, h1, a2, h2, a3, y_hat = forward_pass2(W1, W2, W3, b1, b2, b3, samples)\n",
        "            error = y_hat - targets\n",
        "            preds = np.argmax(y_hat, axis=0)\n",
        "            truth = np.argmax(targets, axis=0)\n",
        "            train_error += np.sum(preds!=truth)\n",
        "            loss_on_batch = log_loss(targets, y_hat)\n",
        "\n",
        "            dW1, dW2, dW3, db1, db2, db3 = dfa_backward_pass2(error, h1, h2, B1, B2, a1, a2, samples)\n",
        "            W1 += lr*dW1\n",
        "            W2 += lr*dW2\n",
        "            W3 += lr*dW3\n",
        "            b1 += lr*db1\n",
        "            b2 += lr*db2\n",
        "            b3 += lr*db3\n",
        "            loss += loss_on_batch\n",
        "        training_error = 1.*train_error/x.shape[1]\n",
        "        print('Loss at epoch', i+1, ':', loss/x.shape[1])\n",
        "        print('Training error:', training_error)\n",
        "        prev_training_error = 0 if i==0 else te_dfa[-1]\n",
        "        if np.abs(training_error-prev_training_error) <= tol:\n",
        "            te_dfa.append(training_error)\n",
        "            break\n",
        "        te_dfa.append(training_error)\n",
        "    return W1, W2, W3, b1, b2, b3, te_dfa, angles"
      ]
    },
    {
      "cell_type": "code",
      "execution_count": null,
      "metadata": {
        "colab": {
          "base_uri": "https://localhost:8080/"
        },
        "id": "Ze9FNSwvl1cJ",
        "outputId": "8eb9418b-2145-4bee-9831-8fd280e79e48"
      },
      "outputs": [
        {
          "output_type": "stream",
          "name": "stdout",
          "text": [
            "Loss at epoch 1 : 1.9258971791382629\n",
            "Training error: 0.75995\n",
            "Loss at epoch 2 : 1.3019250451735236\n",
            "Training error: 0.5251666666666667\n",
            "Loss at epoch 3 : 1.0660153625417266\n",
            "Training error: 0.4145666666666667\n",
            "Loss at epoch 4 : 0.9414959635535509\n",
            "Training error: 0.35075\n",
            "Loss at epoch 5 : 0.8643132001500524\n",
            "Training error: 0.3072166666666667\n",
            "Loss at epoch 6 : 0.812931759897734\n",
            "Training error: 0.2786166666666667\n",
            "Loss at epoch 7 : 0.7716889979832251\n",
            "Training error: 0.25635\n",
            "Loss at epoch 8 : 0.7374340872275379\n",
            "Training error: 0.23898333333333333\n",
            "Loss at epoch 9 : 0.7104425593521715\n",
            "Training error: 0.22375\n",
            "Loss at epoch 10 : 0.6868590014774669\n",
            "Training error: 0.21085\n",
            "Loss at epoch 11 : 0.667390874434253\n",
            "Training error: 0.19988333333333333\n",
            "Loss at epoch 12 : 0.6503398422948462\n",
            "Training error: 0.1913\n",
            "Loss at epoch 13 : 0.6356344799788995\n",
            "Training error: 0.18325\n",
            "Loss at epoch 14 : 0.6213220951490258\n",
            "Training error: 0.17516666666666666\n",
            "Loss at epoch 15 : 0.6101089987268808\n",
            "Training error: 0.16965\n",
            "Loss at epoch 16 : 0.5991071860717144\n",
            "Training error: 0.16396666666666668\n",
            "Loss at epoch 17 : 0.5888547090639201\n",
            "Training error: 0.15865\n",
            "Loss at epoch 18 : 0.5807206078407519\n",
            "Training error: 0.15326666666666666\n",
            "Loss at epoch 19 : 0.5708927648113176\n",
            "Training error: 0.14918333333333333\n",
            "Loss at epoch 20 : 0.5631518481780114\n",
            "Training error: 0.14498333333333333\n",
            "Loss at epoch 21 : 0.554547593635071\n",
            "Training error: 0.14021666666666666\n",
            "Loss at epoch 22 : 0.5467852113735666\n",
            "Training error: 0.13715\n",
            "Loss at epoch 23 : 0.5402318458928383\n",
            "Training error: 0.1335\n",
            "Loss at epoch 24 : 0.5342333057804737\n",
            "Training error: 0.13016666666666668\n",
            "Loss at epoch 25 : 0.5270452955073557\n",
            "Training error: 0.12755\n",
            "Loss at epoch 26 : 0.5202744456305957\n",
            "Training error: 0.12521666666666667\n",
            "Loss at epoch 27 : 0.5149678785200187\n",
            "Training error: 0.12278333333333333\n",
            "Loss at epoch 28 : 0.5087595539672181\n",
            "Training error: 0.12025\n",
            "Loss at epoch 29 : 0.5044945683111549\n",
            "Training error: 0.11716666666666667\n",
            "Loss at epoch 30 : 0.4992130799668002\n",
            "Training error: 0.11506666666666666\n",
            "Loss at epoch 31 : 0.4943942152522913\n",
            "Training error: 0.1128\n",
            "Loss at epoch 32 : 0.48972045897832567\n",
            "Training error: 0.11091666666666666\n",
            "Loss at epoch 33 : 0.4851817504939025\n",
            "Training error: 0.10856666666666667\n",
            "Loss at epoch 34 : 0.48088673024384315\n",
            "Training error: 0.10705\n",
            "Loss at epoch 35 : 0.4770515528762381\n",
            "Training error: 0.10476666666666666\n",
            "Loss at epoch 36 : 0.4730576184155374\n",
            "Training error: 0.1024\n",
            "Loss at epoch 37 : 0.4695004083613658\n",
            "Training error: 0.10015\n",
            "Loss at epoch 38 : 0.4653766643111589\n",
            "Training error: 0.09841666666666667\n",
            "Loss at epoch 39 : 0.4624429521047051\n",
            "Training error: 0.09731666666666666\n",
            "Loss at epoch 40 : 0.45937162679008386\n",
            "Training error: 0.09491666666666666\n",
            "Loss at epoch 41 : 0.45544584066255994\n",
            "Training error: 0.0935\n",
            "Loss at epoch 42 : 0.4530261469038135\n",
            "Training error: 0.09171666666666667\n",
            "Loss at epoch 43 : 0.44975791180013835\n",
            "Training error: 0.09031666666666667\n",
            "Loss at epoch 44 : 0.4464433736962796\n",
            "Training error: 0.08885\n",
            "Loss at epoch 45 : 0.4438297185108988\n",
            "Training error: 0.08786666666666666\n",
            "Loss at epoch 46 : 0.4404603382764601\n",
            "Training error: 0.08651666666666667\n",
            "Loss at epoch 47 : 0.4381855778103966\n",
            "Training error: 0.08543333333333333\n",
            "Loss at epoch 48 : 0.43521457402042724\n",
            "Training error: 0.08421666666666666\n",
            "Loss at epoch 49 : 0.43277672480589713\n",
            "Training error: 0.0823\n",
            "Loss at epoch 50 : 0.4303300589843435\n",
            "Training error: 0.0813\n",
            "Loss at epoch 51 : 0.4275935786397631\n",
            "Training error: 0.0807\n",
            "Loss at epoch 52 : 0.42518765398061725\n",
            "Training error: 0.07916666666666666\n",
            "Loss at epoch 53 : 0.4226091782007028\n",
            "Training error: 0.07786666666666667\n",
            "Loss at epoch 54 : 0.4208178481434393\n",
            "Training error: 0.07708333333333334\n",
            "Loss at epoch 55 : 0.41844026643823073\n",
            "Training error: 0.07605\n",
            "Loss at epoch 56 : 0.41602075095166874\n",
            "Training error: 0.07465\n",
            "Loss at epoch 57 : 0.4139604827402854\n",
            "Training error: 0.07351666666666666\n",
            "Loss at epoch 58 : 0.41209013180694437\n",
            "Training error: 0.07245\n",
            "Loss at epoch 59 : 0.4102377813829158\n",
            "Training error: 0.07108333333333333\n",
            "Loss at epoch 60 : 0.4082283316748366\n",
            "Training error: 0.0705\n",
            "Loss at epoch 61 : 0.40629790622561984\n",
            "Training error: 0.06905\n",
            "Loss at epoch 62 : 0.40441256924981644\n",
            "Training error: 0.06805\n",
            "Loss at epoch 63 : 0.4027614568960595\n",
            "Training error: 0.06731666666666666\n",
            "Loss at epoch 64 : 0.40093092915811196\n",
            "Training error: 0.0667\n",
            "Loss at epoch 65 : 0.39943808717815243\n",
            "Training error: 0.06526666666666667\n",
            "Loss at epoch 66 : 0.3973219092781539\n",
            "Training error: 0.0653\n"
          ]
        }
      ],
      "source": [
        "W1dfa, W2dfa, W3dfa, b1dfa, b2dfa, b3dfa, te_dfa, angles = dfa_train2(X_train, y_train, n_epochs=100, lr=1e-4, batch_size=200, tol=1e-4)"
      ]
    },
    {
      "cell_type": "code",
      "execution_count": null,
      "metadata": {
        "collapsed": true,
        "id": "DkkwX0QYl1cJ"
      },
      "outputs": [],
      "source": [
        "def test(W1, W2, W3, b1, b2, b3, test_samples, test_targets):\n",
        "    test_samples = np.transpose(test_samples)\n",
        "    test_targets = np.transpose(test_targets)\n",
        "    # outs = forward_pass1(W1, W2, b1, b2, test_samples)[-1]\n",
        "    outs = forward_pass2(W1, W2, W3, b1, b2, b3, test_samples)[-1]\n",
        "    preds = np.argmax(outs, axis=0)\n",
        "    truth = np.argmax(test_targets, axis=0)\n",
        "    test_error = 1.*np.sum(preds!=truth)/preds.shape[0]\n",
        "    return test_error"
      ]
    },
    {
      "cell_type": "code",
      "execution_count": null,
      "metadata": {
        "colab": {
          "base_uri": "https://localhost:8080/"
        },
        "id": "UcRxmn1Dl1cJ",
        "outputId": "67edfdcc-a84f-4f0a-8462-b68918e5e42b"
      },
      "outputs": [
        {
          "output_type": "stream",
          "name": "stdout",
          "text": [
            "BP test error: 15.129999999999999 %\n",
            "DFA test error: 9.43 %\n"
          ]
        }
      ],
      "source": [
        "print('BP test error:', test(W1, W2 ,W3, b1, b2, b3, X_test, y_test)*100, '%')\n",
        "print('DFA test error:', test(W1dfa, W2dfa, W3dfa, b1dfa, b2dfa, b3dfa, X_test, y_test)*100, '%')"
      ]
    },
    {
      "cell_type": "code",
      "execution_count": null,
      "metadata": {
        "colab": {
          "base_uri": "https://localhost:8080/",
          "height": 472
        },
        "id": "BHrm8kIDl1cJ",
        "outputId": "a86e4c8b-2fcb-4fa7-b4f5-d8c25e65f8f6"
      },
      "outputs": [
        {
          "output_type": "display_data",
          "data": {
            "text/plain": [
              "<Figure size 640x480 with 1 Axes>"
            ],
            "image/png": "[encoded data removed]"
          },
          "metadata": {}
        }
      ],
      "source": [
        "plt.plot(range(len(te_bp)), te_bp, label='BP training error')\n",
        "plt.plot(range(len(te_dfa)), te_dfa, label='DFA training error')\n",
        "plt.title('Learning rate 1e-4')\n",
        "plt.xlabel('Epochs')\n",
        "plt.ylabel('Training error %')\n",
        "plt.legend(loc='best')\n",
        "plt.savefig(\"output.jpg\")\n",
        "plt.show()"
      ]
    },
    {
      "cell_type": "code",
      "execution_count": null,
      "metadata": {
        "colab": {
          "background_save": true
        },
        "id": "e34845Jfl1cK"
      },
      "outputs": [],
      "source": [
        "l, beta = zip(*angles)"
      ]
    },
    {
      "cell_type": "code",
      "execution_count": null,
      "metadata": {
        "colab": {
          "background_save": true
        },
        "id": "m5ZU-qH9l1cK",
        "outputId": "4e48317a-45a7-4b27-8e1e-81d36327a181"
      },
      "outputs": [
        {
          "data": {
            "image/png": "[encoded data removed]",
            "text/plain": [
              "<Figure size 640x480 with 1 Axes>"
            ]
          },
          "metadata": {},
          "output_type": "display_data"
        }
      ],
      "source": [
        "plt.plot(range(len(beta)), beta, label='angle')\n",
        "plt.legend(loc='best')\n",
        "plt.xlabel('Epoch*3')\n",
        "plt.ylabel('Angle')\n",
        "plt.show()"
      ]
    }
  ],
  "metadata": {
    "colab": {
      "provenance": []
    },
    "kernelspec": {
      "display_name": "Python 2",
      "language": "python",
      "name": "python2"
    },
    "language_info": {
      "codemirror_mode": {
        "name": "ipython",
        "version": 2
      },
      "file_extension": ".py",
      "mimetype": "text/x-python",
      "name": "python",
      "nbconvert_exporter": "python",
      "pygments_lexer": "ipython2",
      "version": "2.7.10"
    }
  },
  "nbformat": 4,
  "nbformat_minor": 0
}